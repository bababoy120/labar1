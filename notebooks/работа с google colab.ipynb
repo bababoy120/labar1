{
  "nbformat": 4,
  "nbformat_minor": 0,
  "metadata": {
    "colab": {
      "provenance": []
    },
    "kernelspec": {
      "name": "python3",
      "display_name": "Python 3"
    },
    "language_info": {
      "name": "python"
    }
  },
  "cells": [
    {
      "cell_type": "code",
      "execution_count": 1,
      "metadata": {
        "colab": {
          "base_uri": "https://localhost:8080/"
        },
        "id": "J4_GyXYQuEtU",
        "outputId": "6598bea4-8f0d-4515-fe46-d5e1acc9ef9a"
      },
      "outputs": [
        {
          "output_type": "stream",
          "name": "stdout",
          "text": [
            "Mounted at /content/drive\n",
            " 123  'Colab Notebooks'   откати   сабат   теория   флешка\n",
            "Файл '/content/drive/MyDrive/my_text_file.txt' успешно создан и записан в Google Drive.\n",
            "Содержимое файла:\n",
            "Это первая строка.\n",
            "Это вторая строка.\n",
            "Это третья строка.\n",
            "\n"
          ]
        }
      ],
      "source": [
        "from google.colab import drive\n",
        "drive.mount('/content/drive')\n",
        "\n",
        "!ls /content/drive/MyDrive\n",
        "\n",
        "filename = \"/content/drive/MyDrive/my_text_file.txt\"\n",
        "try:\n",
        "    with open(filename, \"w\", encoding=\"utf-8\") as file:\n",
        "        file.write(\"Это первая строка.\\n\")\n",
        "        file.write(\"Это вторая строка.\\n\")\n",
        "        file.write(\"Это третья строка.\\n\")\n",
        "    print(f\"Файл '{filename}' успешно создан и записан в Google Drive.\")\n",
        "except Exception as e:\n",
        "    print(f\"Произошла ошибка при записи файла: {e}\")\n",
        "\n",
        "\n",
        "filename = \"/content/drive/MyDrive/my_text_file.txt\"\n",
        "\n",
        "try:\n",
        "    with open(filename, \"r\", encoding=\"utf-8\") as file:\n",
        "        content = file.read()\n",
        "        print(\"Содержимое файла:\")\n",
        "        print(content)\n",
        "except FileNotFoundError:\n",
        "    print(f\"Файл '{filename}' не найден.\")\n",
        "except Exception as e:\n",
        "    print(f\"Произошла ошибка при чтении файла: {e}\")"
      ]
    },
    {
      "cell_type": "code",
      "source": [],
      "metadata": {
        "id": "hjVilfZmuJJe"
      },
      "execution_count": null,
      "outputs": []
    }
  ]
}