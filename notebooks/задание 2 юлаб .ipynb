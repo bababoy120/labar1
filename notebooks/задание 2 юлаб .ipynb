{
 "cells": [
  {
   "cell_type": "code",
   "execution_count": 1,
   "id": "6117d595-5b05-40d9-9d49-0603c7abb92d",
   "metadata": {},
   "outputs": [
    {
     "name": "stdout",
     "output_type": "stream",
     "text": [
      "Файл 'example.txt' успешно создан и записан.\n",
      "\n",
      "Содержимое файла:\n",
      "Первая строка текста.\n",
      "Вторая строка текста.\n",
      "Третья строка текста.\n",
      "\n",
      "\n",
      "Файл 'example.txt' существует.\n",
      "Файл 'example.txt' успешно удален.\n"
     ]
    }
   ],
   "source": [
    "import os\n",
    "\n",
    "filename = \"example.txt\" \n",
    "\n",
    "try:\n",
    "    with open(filename, \"w\", encoding=\"utf-8\") as file:\n",
    "        file.write(\"Первая строка текста.\\n\") \n",
    "        file.write(\"Вторая строка текста.\\n\")\n",
    "        file.write(\"Третья строка текста.\\n\")\n",
    "    print(f\"Файл '{filename}' успешно создан и записан.\")\n",
    "\n",
    "    with open(filename, \"r\", encoding=\"utf-8\") as file:\n",
    "        content = file.read()\n",
    "        print(\"\\nСодержимое файла:\")\n",
    "        print(content)\n",
    "\n",
    "    if os.path.exists(filename):\n",
    "        print(f\"\\nФайл '{filename}' существует.\")\n",
    "    else:\n",
    "        print(f\"\\nФайл '{filename}' не существует.\")\n",
    "\n",
    "    os.remove(filename)\n",
    "    print(f\"Файл '{filename}' успешно удален.\")\n",
    "\n",
    "except FileNotFoundError:\n",
    "    print(f\"Ошибка: Файл '{filename}' не найден.\")\n",
    "except Exception as e:\n",
    "    print(f\"Произошла ошибка: {e}\")"
   ]
  },
  {
   "cell_type": "code",
   "execution_count": null,
   "id": "67046c32-3dc5-4a35-9763-26c117493946",
   "metadata": {},
   "outputs": [],
   "source": []
  }
 ],
 "metadata": {
  "kernelspec": {
   "display_name": "Python [conda env:base] *",
   "language": "python",
   "name": "conda-base-py"
  },
  "language_info": {
   "codemirror_mode": {
    "name": "ipython",
    "version": 3
   },
   "file_extension": ".py",
   "mimetype": "text/x-python",
   "name": "python",
   "nbconvert_exporter": "python",
   "pygments_lexer": "ipython3",
   "version": "3.12.7"
  }
 },
 "nbformat": 4,
 "nbformat_minor": 5
}
