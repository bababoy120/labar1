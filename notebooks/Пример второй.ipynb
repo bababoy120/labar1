{
 "cells": [
  {
   "cell_type": "markdown",
   "id": "35dea4c9-2c76-4b62-a8e0-9f378440c762",
   "metadata": {},
   "source": [
    "# Заголовок первого уровня\n",
    "## Заголовок второго уровня\n",
    "Полужирный текст, *курсив*, код в строке\n",
    "Список:\n",
    "- Пункт 1\n",
    "- Пункт 2\n",
    "- Пункт 3\n",
    "Формула: $y = mx + b$"
   ]
  },
  {
   "cell_type": "code",
   "execution_count": null,
   "id": "65241faf-d04c-4a11-9039-3868d104d274",
   "metadata": {},
   "outputs": [],
   "source": []
  }
 ],
 "metadata": {
  "kernelspec": {
   "display_name": "Python [conda env:base] *",
   "language": "python",
   "name": "conda-base-py"
  },
  "language_info": {
   "codemirror_mode": {
    "name": "ipython",
    "version": 3
   },
   "file_extension": ".py",
   "mimetype": "text/x-python",
   "name": "python",
   "nbconvert_exporter": "python",
   "pygments_lexer": "ipython3",
   "version": "3.12.7"
  }
 },
 "nbformat": 4,
 "nbformat_minor": 5
}
