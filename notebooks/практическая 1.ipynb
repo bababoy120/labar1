{
 "cells": [
  {
   "cell_type": "markdown",
   "id": "e747cb16",
   "metadata": {},
   "source": [
    "# Практическая работа№1\n",
    "*Курсивный и ***жирный\n",
    "1. список нумерованный \n",
    "2. и еще раз\n",
    "- Маркированный список\n",
    "-  еще раз\n",
    "\n",
    "$$\\int e^x \\, dx = e^x + C$$\n",
    "\n",
    "\n",
    "![Вкач](C:\\Users\\sevad\\labar1\\notebooks\\фото.png) \n"
   ]
  },
  {
   "cell_type": "code",
   "execution_count": null,
   "id": "6bab3d41",
   "metadata": {},
   "outputs": [],
   "source": []
  },
  {
   "cell_type": "code",
   "execution_count": null,
   "id": "4b21cb9d",
   "metadata": {},
   "outputs": [],
   "source": []
  }
 ],
 "metadata": {
  "kernelspec": {
   "display_name": "Python [conda env:base] *",
   "language": "python",
   "name": "conda-base-py"
  },
  "language_info": {
   "codemirror_mode": {
    "name": "ipython",
    "version": 3
   },
   "file_extension": ".py",
   "mimetype": "text/x-python",
   "name": "python",
   "nbconvert_exporter": "python",
   "pygments_lexer": "ipython3",
   "version": "3.12.7"
  }
 },
 "nbformat": 4,
 "nbformat_minor": 5
}
