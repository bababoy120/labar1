{
 "cells": [
  {
   "cell_type": "code",
   "execution_count": null,
   "id": "b37ff780-8a40-42b6-bc2b-3e89766d693c",
   "metadata": {},
   "outputs": [],
   "source": []
  }
 ],
 "metadata": {
  "kernelspec": {
   "display_name": "",
   "name": ""
  },
  "language_info": {
   "name": ""
  }
 },
 "nbformat": 4,
 "nbformat_minor": 5
}
