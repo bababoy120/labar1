{
 "cells": [
  {
   "cell_type": "code",
   "execution_count": 1,
   "id": "eaf98717-aa65-4b70-8da6-bb539240ad33",
   "metadata": {},
   "outputs": [
    {
     "name": "stdout",
     "output_type": "stream",
     "text": [
      " Том в устройстве C не имеет метки.\n",
      " Серийный номер тома: CA7C-6BD7\n",
      "\n",
      " Содержимое папки C:\\Users\\sevad\\labar1\\notebooks\n",
      "\n",
      "17.02.2025  23:56    <DIR>          .\n",
      "17.02.2025  23:56    <DIR>          ..\n",
      "17.02.2025  23:54    <DIR>          .ipynb_checkpoints\n",
      "15.02.2025  18:00             1 236 1212.ipynb\n",
      "17.02.2025  23:49                90 script.py\n",
      "17.02.2025  23:56    <DIR>          test_folder\n",
      "16.02.2025  23:26             2 184 Untitled.ipynb\n",
      "16.02.2025  23:27             1 081 Untitled1.ipynb\n",
      "16.02.2025  23:27            40 279 Untitled2.ipynb\n",
      "16.02.2025  23:35             1 354 Untitled3.ipynb\n",
      "16.02.2025  23:35               337 Untitled4.ipynb\n",
      "17.02.2025  23:45             2 574 задание 2 юлаб .ipynb\n",
      "17.02.2025  23:51            20 778 задание магические команды.ipynb\n",
      "17.02.2025  23:54                72 Оболочка системы.ipynb\n",
      "              10 файлов         69 985 байт\n",
      "               4 папок  22 688 456 704 байт свободно\n",
      "D:\\anakonda\\python.exe\n",
      "C:\\Users\\sevad\\AppData\\Local\\Microsoft\\WindowsApps\\python.exe\n"
     ]
    }
   ],
   "source": [
    "!mkdir test_folder\n",
    "!dir\n",
    "!where python\n",
    "!rmdir test_folder"
   ]
  },
  {
   "cell_type": "code",
   "execution_count": null,
   "id": "457b0b63-920b-4e5d-a3f8-08bd812c9cfa",
   "metadata": {},
   "outputs": [],
   "source": []
  }
 ],
 "metadata": {
  "kernelspec": {
   "display_name": "Python [conda env:base] *",
   "language": "python",
   "name": "conda-base-py"
  },
  "language_info": {
   "codemirror_mode": {
    "name": "ipython",
    "version": 3
   },
   "file_extension": ".py",
   "mimetype": "text/x-python",
   "name": "python",
   "nbconvert_exporter": "python",
   "pygments_lexer": "ipython3",
   "version": "3.12.7"
  }
 },
 "nbformat": 4,
 "nbformat_minor": 5
}
